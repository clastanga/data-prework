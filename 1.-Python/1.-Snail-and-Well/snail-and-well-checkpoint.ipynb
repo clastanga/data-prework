{
 "cells": [
  {
   "cell_type": "markdown",
   "metadata": {},
   "source": [
    "<img src=\"https://bit.ly/2VnXWr2\" width=\"100\" align=\"left\">"
   ]
  },
  {
   "cell_type": "markdown",
   "metadata": {},
   "source": [
    "# The Snail and the Well\n",
    "\n",
    "A snail falls at the bottom of a 125 cm well. Each day the snail rises 30 cm. But at night, while sleeping, slides 20 cm because the walls are wet. How many days does it take for the snail to escape the well?\n",
    "\n",
    "**Hint**: The snail gets out of the well when it surpasses the 125cm of height.\n",
    "\n",
    "## Tools\n",
    "\n",
    "1. Loop: **while**\n",
    "2. Conditional statements: **if-else**\n",
    "3. Function: **print()**\n",
    "\n",
    "## Tasks\n",
    "\n",
    "#### 1. Assign the challenge data to variables with representative names: `well_height`, `daily_distance`, `nightly_distance` and `snail_position`."
   ]
  },
  {
   "cell_type": "code",
   "execution_count": 4,
   "metadata": {},
   "outputs": [],
   "source": [
    "well_height = 125\n",
    "daily_distance = 30\n",
    "nightly_distance = -20 \n",
    "snail_position = 0"
   ]
  },
  {
   "cell_type": "markdown",
   "metadata": {},
   "source": [
    "#### 2. Create a variable `days` to keep count of the days that pass until the snail escapes the well. "
   ]
  },
  {
   "cell_type": "code",
   "execution_count": 5,
   "metadata": {},
   "outputs": [],
   "source": [
    "days = 0\n",
    "\n",
    "cm_per_day = daily_distance + nightly_distance\n"
   ]
  },
  {
   "cell_type": "markdown",
   "metadata": {},
   "source": [
    "#### 3. Find the solution to the challenge using the variables defined above. "
   ]
  },
  {
   "cell_type": "code",
   "execution_count": 6,
   "metadata": {},
   "outputs": [
    {
     "name": "stdout",
     "output_type": "stream",
     "text": [
      "after 1 days, the snail is still in...\n",
      "after 2 days, the snail is still in...\n",
      "after 3 days, the snail is still in...\n",
      "after 4 days, the snail is still in...\n",
      "after 5 days, the snail is still in...\n",
      "after 6 days, the snail is still in...\n",
      "after 7 days, the snail is still in...\n",
      "after 8 days, the snail is still in...\n",
      "after 9 days, the snail is still in...\n",
      "after 10 days, the snail is still in...\n",
      "after 11 days, the snail is still in...\n",
      "after 12 days, the snail is still in...\n",
      "after 13 days, the snail is still in...\n",
      "the snail is out!!\n"
     ]
    }
   ],
   "source": [
    "while snail_position <= well_height:\n",
    "    snail_position += cm_per_day\n",
    "    days += 1\n",
    "    print('after', days, 'days, the snail is still in...')\n",
    "    if snail_position > well_height:\n",
    "        print('the snail is out!!')"
   ]
  },
  {
   "cell_type": "markdown",
   "metadata": {},
   "source": [
    "#### 4. Print the solution."
   ]
  },
  {
   "cell_type": "code",
   "execution_count": 7,
   "metadata": {},
   "outputs": [
    {
     "name": "stdout",
     "output_type": "stream",
     "text": [
      "The snail is out after 13 days.\n"
     ]
    }
   ],
   "source": [
    "print('The snail is out after', days, 'days.')"
   ]
  },
  {
   "cell_type": "markdown",
   "metadata": {},
   "source": [
    "## Bonus\n",
    "The distance traveled by the snail each day is now defined by a list.\n",
    "```\n",
    "advance_cm = [30, 21, 33, 77, 44, 45, 23, 45, 12, 34, 55]\n",
    "```\n",
    "On the first day, the snail rises 30cm but during the night it slides 20cm. On the second day, the snail rises 21cm but during the night it slides 20cm, and so on. \n",
    "\n",
    "#### 1. How many days does it take for the snail to escape the well?\n",
    "Follow the same guidelines as in the previous challenge.\n",
    "\n",
    "**Hint**: Remember that the snail gets out of the well when it surpasses the 125cm of height."
   ]
  },
  {
   "cell_type": "code",
   "execution_count": 8,
   "metadata": {},
   "outputs": [
    {
     "name": "stdout",
     "output_type": "stream",
     "text": [
      "on day 1 the snail climbed 10 cm\n",
      "on day 2 the snail climbed 1 cm\n",
      "on day 3 the snail climbed 13 cm\n",
      "on day 4 the snail climbed 57 cm\n",
      "on day 5 the snail climbed 24 cm\n",
      "on day 6 the snail climbed 25 cm\n",
      "on day 7 the snail climbed 3 cm\n",
      "on day 8 the snail climbed 25 cm\n",
      "on day 9 the snail climbed -8 cm\n",
      "on day 10 the snail climbed 14 cm\n",
      "on day 11 the snail climbed 35 cm\n",
      "the snail is out after 11 days, climbing 130 cm.\n"
     ]
    }
   ],
   "source": [
    "advance_cm = [30, 21, 33, 77, 44, 45, 23, 45, 12, 34, 55]\n",
    "days = 0\n",
    "tot_cm = 0\n",
    "\n",
    "for i in advance_cm:\n",
    "    progress = i + nightly_distance\n",
    "    days += 1\n",
    "    print('on day', days, 'the snail climbed', progress, 'cm')\n",
    "    while snail_position <= well_height:\n",
    "        snail_position += tot_cm + progress\n",
    "print('the snail is out after', days, 'days, climbing', snail_position, 'cm.')"
   ]
  },
  {
   "cell_type": "markdown",
   "metadata": {},
   "source": [
    "#### 2. What is its maximum displacement in one day? And its minimum? Calculate the displacement using only the travel distance of the days used to get out of the well. \n",
    "**Hint**: Remember that displacement means the total distance risen taking into account that the snail slides at night.  "
   ]
  },
  {
   "cell_type": "code",
   "execution_count": 9,
   "metadata": {},
   "outputs": [
    {
     "name": "stdout",
     "output_type": "stream",
     "text": [
      "the maximum displacement in one day is 57 cm\n",
      "the minimum displacement in one day is -8 cm.\n"
     ]
    }
   ],
   "source": [
    "total_progress = []\n",
    "\n",
    "for i in advance_cm:\n",
    "    progress = i + nightly_distance\n",
    "    total_progress.append(progress)\n",
    "\n",
    "max_displ = max(total_progress) \n",
    "min_disp = min(total_progress) \n",
    "print('the maximum displacement in one day is', max_displ,'cm')\n",
    "print('the minimum displacement in one day is', min_disp,'cm.')\n"
   ]
  },
  {
   "cell_type": "markdown",
   "metadata": {},
   "source": [
    "3. What is its average progress? Take into account the snail slides at night."
   ]
  },
  {
   "cell_type": "code",
   "execution_count": 10,
   "metadata": {},
   "outputs": [
    {
     "name": "stdout",
     "output_type": "stream",
     "text": [
      "the average progress is 18.09090909090909\n"
     ]
    }
   ],
   "source": [
    "avg_prog = sum(total_progress)/days\n",
    "print('the average progress is', avg_prog)"
   ]
  },
  {
   "cell_type": "markdown",
   "metadata": {},
   "source": [
    "#### 4. What is the standard deviation of its displacement? Take into account the snail slides at night."
   ]
  },
  {
   "cell_type": "code",
   "execution_count": null,
   "metadata": {},
   "outputs": [],
   "source": []
  }
 ],
 "metadata": {
  "kernelspec": {
   "display_name": "Python 3",
   "language": "python",
   "name": "python3"
  },
  "language_info": {
   "codemirror_mode": {
    "name": "ipython",
    "version": 3
   },
   "file_extension": ".py",
   "mimetype": "text/x-python",
   "name": "python",
   "nbconvert_exporter": "python",
   "pygments_lexer": "ipython3",
   "version": "3.7.3"
  }
 },
 "nbformat": 4,
 "nbformat_minor": 2
}

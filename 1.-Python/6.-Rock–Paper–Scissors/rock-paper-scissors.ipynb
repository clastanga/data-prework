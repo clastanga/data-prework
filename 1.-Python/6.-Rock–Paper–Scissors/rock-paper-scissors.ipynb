{
 "cells": [
  {
   "cell_type": "markdown",
   "metadata": {},
   "source": [
    "<img src=\"https://bit.ly/2VnXWr2\" width=\"100\" align=\"left\">"
   ]
  },
  {
   "cell_type": "markdown",
   "metadata": {},
   "source": [
    "# Rock, Paper & Scissors\n",
    "\n",
    "Let's play the famous game against our computer. You can check the rules [here](https://en.wikipedia.org/wiki/Rock%E2%80%93paper%E2%80%93scissors). \n",
    "\n",
    "## Task\n",
    "Create a program that imitates the playability of the well known game of rock, paper, scissors. Follow the guidelines provided.\n",
    "\n",
    "## Tools\n",
    "1. Loop: **for/while**\n",
    "2. Functions: **input(), print()...**\n",
    "3. Conditional statements: **if, elif, else**\n",
    "4. Definition of functions. Modular programming\n",
    "5. Import modules\n",
    "\n",
    "**To solve this challenge, the use of functions is recommended.**\n",
    "\n",
    "#### 1. Import the choice function of the random module."
   ]
  },
  {
   "cell_type": "code",
   "execution_count": 1,
   "metadata": {},
   "outputs": [],
   "source": [
    "import random"
   ]
  },
  {
   "cell_type": "markdown",
   "metadata": {},
   "source": [
    "#### 2. Create a list that includes the 3 possible gesture options of the game: 'rock', 'paper' or 'scissors'. Store the list in a variable called `gestures`."
   ]
  },
  {
   "cell_type": "code",
   "execution_count": 2,
   "metadata": {},
   "outputs": [],
   "source": [
    "gestures = ['Rock', 'Paper', 'Scissors']"
   ]
  },
  {
   "cell_type": "markdown",
   "metadata": {},
   "source": [
    "#### 3. Create a variable called `n_rounds` to store the maximum number of rounds to play in a game. \n",
    "Remember that the number of rounds must be odd: 1, 3, 5, ..."
   ]
  },
  {
   "cell_type": "code",
   "execution_count": 3,
   "metadata": {},
   "outputs": [],
   "source": [
    "n_rounds = []  # maximum number of rounds to play in a game\n",
    "               # the number of rounds must be odd"
   ]
  },
  {
   "cell_type": "markdown",
   "metadata": {},
   "source": [
    "#### 4. Create a variable called `rounds_to_win` to store the number of rounds that a player must win to win the game.\n",
    "**Hint**: the value stored in `rounds_to_win` depends on the value of `n_rounds`. "
   ]
  },
  {
   "cell_type": "code",
   "execution_count": 4,
   "metadata": {},
   "outputs": [],
   "source": [
    "rounds_to_win = [] # number of rounds that a player must win to win the game"
   ]
  },
  {
   "cell_type": "markdown",
   "metadata": {},
   "source": [
    "#### 5. Create two variables to store the number of rounds that the computer and the player have won. Call these variables `cpu_score` and `player_score`."
   ]
  },
  {
   "cell_type": "code",
   "execution_count": 5,
   "metadata": {},
   "outputs": [],
   "source": [
    "cpu_score = 0\n",
    "player_score = 0"
   ]
  },
  {
   "cell_type": "markdown",
   "metadata": {},
   "source": [
    "#### 6. Define a function that randomly returns one of the 3 gesture options.\n",
    "You will use this function to simulate the gesture choice of the computer. "
   ]
  },
  {
   "cell_type": "code",
   "execution_count": 6,
   "metadata": {},
   "outputs": [],
   "source": [
    "def computer_play():\n",
    "    comp_choice = random.randint(1, 3)\n",
    "    return comp_choice\n",
    "\n",
    "cpu_choice = computer_play()\n"
   ]
  },
  {
   "cell_type": "markdown",
   "metadata": {},
   "source": [
    "#### 7. Define a function that asks the player which is the gesture he or she wants to show: 'rock', 'paper' or 'scissors'.\n",
    "The player should only be allowed to choose one of the 3 gesture options. If the player's choice is not rock, paper or scissors, keep asking until it is."
   ]
  },
  {
   "cell_type": "code",
   "execution_count": 7,
   "metadata": {},
   "outputs": [
    {
     "name": "stdout",
     "output_type": "stream",
     "text": [
      "Choose: 1 for Rock, 2 for Paper, or 3 Scissors: 2\n"
     ]
    }
   ],
   "source": [
    "def user_play():\n",
    "    choice = int(input(\"Choose: 1 for Rock, 2 for Paper, or 3 Scissors: \"))\n",
    "    while choice > 3 or choice < 1:\n",
    "        choice = int(input(\"Nope. Try again: 1 for Rock, 2 for Paper, or 3 Scissors: \"))\n",
    "    return choice\n",
    "\n",
    "user_choice = user_play()\n"
   ]
  },
  {
   "cell_type": "markdown",
   "metadata": {},
   "source": [
    "#### 8. Define a function that checks who won a round. \n",
    "The function should return 0 if there is a tie, 1 if the computer wins and 2 if the player wins."
   ]
  },
  {
   "cell_type": "code",
   "execution_count": 8,
   "metadata": {},
   "outputs": [],
   "source": [
    "def win_the_game():\n",
    "    if user_choice == cpu_choice:\n",
    "        result = 0\n",
    "    elif((user_choice == 1 and cpu_choice == 3) or (user_choice == 2 and cpu_choice ==1 ) or (user_choice == 3 and cpu_choice == 2)):\n",
    "        result = 2\n",
    "    else:\n",
    "        result = 1\n",
    "    return result\n",
    "\n",
    "round_winner = win_the_game()\n",
    "\n"
   ]
  },
  {
   "cell_type": "markdown",
   "metadata": {},
   "source": [
    "#### 9. Define a function that prints the choice of the computer, the choice of the player and a message that announces who won the current round. \n",
    "You should also use this function to update the variables that count the number of rounds that the computer and the player have won. The score of the winner increases by one point. If there is a tie, the score does not increase."
   ]
  },
  {
   "cell_type": "code",
   "execution_count": 9,
   "metadata": {},
   "outputs": [
    {
     "name": "stdout",
     "output_type": "stream",
     "text": [
      "You chose Paper\n",
      "The Computer chose Rock\n",
      "Dude, you won!\n"
     ]
    },
    {
     "ename": "UnboundLocalError",
     "evalue": "local variable 'player_score' referenced before assignment",
     "output_type": "error",
     "traceback": [
      "\u001b[1;31m---------------------------------------------------------------------------\u001b[0m",
      "\u001b[1;31mUnboundLocalError\u001b[0m                         Traceback (most recent call last)",
      "\u001b[1;32m<ipython-input-9-e86e09ae5598>\u001b[0m in \u001b[0;36m<module>\u001b[1;34m\u001b[0m\n\u001b[0;32m     24\u001b[0m         \u001b[0mprint\u001b[0m\u001b[1;33m(\u001b[0m\u001b[1;34m\"It's a tie!\"\u001b[0m\u001b[1;33m)\u001b[0m\u001b[1;33m\u001b[0m\u001b[1;33m\u001b[0m\u001b[0m\n\u001b[0;32m     25\u001b[0m \u001b[1;33m\u001b[0m\u001b[0m\n\u001b[1;32m---> 26\u001b[1;33m \u001b[0msay_what\u001b[0m \u001b[1;33m=\u001b[0m \u001b[0mplay_the_game\u001b[0m\u001b[1;33m(\u001b[0m\u001b[1;33m)\u001b[0m\u001b[1;33m\u001b[0m\u001b[1;33m\u001b[0m\u001b[0m\n\u001b[0m",
      "\u001b[1;32m<ipython-input-9-e86e09ae5598>\u001b[0m in \u001b[0;36mplay_the_game\u001b[1;34m()\u001b[0m\n\u001b[0;32m     20\u001b[0m     \u001b[1;32melif\u001b[0m \u001b[0mround_winner\u001b[0m \u001b[1;33m==\u001b[0m \u001b[1;36m2\u001b[0m\u001b[1;33m:\u001b[0m\u001b[1;33m\u001b[0m\u001b[1;33m\u001b[0m\u001b[0m\n\u001b[0;32m     21\u001b[0m         \u001b[0mprint\u001b[0m\u001b[1;33m(\u001b[0m\u001b[1;34m\"Dude, you won!\"\u001b[0m\u001b[1;33m)\u001b[0m\u001b[1;33m\u001b[0m\u001b[1;33m\u001b[0m\u001b[0m\n\u001b[1;32m---> 22\u001b[1;33m         \u001b[0mplayer_score\u001b[0m \u001b[1;33m+=\u001b[0m \u001b[1;36m1\u001b[0m\u001b[1;33m\u001b[0m\u001b[1;33m\u001b[0m\u001b[0m\n\u001b[0m\u001b[0;32m     23\u001b[0m     \u001b[1;32melse\u001b[0m\u001b[1;33m:\u001b[0m\u001b[1;33m\u001b[0m\u001b[1;33m\u001b[0m\u001b[0m\n\u001b[0;32m     24\u001b[0m         \u001b[0mprint\u001b[0m\u001b[1;33m(\u001b[0m\u001b[1;34m\"It's a tie!\"\u001b[0m\u001b[1;33m)\u001b[0m\u001b[1;33m\u001b[0m\u001b[1;33m\u001b[0m\u001b[0m\n",
      "\u001b[1;31mUnboundLocalError\u001b[0m: local variable 'player_score' referenced before assignment"
     ]
    }
   ],
   "source": [
    "cpu_score = 0\n",
    "player_score = 0\n",
    "\n",
    "def play_the_game():\n",
    "    if user_choice == 1:\n",
    "        print('You chose Rock')\n",
    "    elif user_choice == 2:\n",
    "        print('You chose Paper')\n",
    "    else:\n",
    "        ('You chose Scissors')\n",
    "    if cpu_choice == 1:\n",
    "        print('The Computer chose Rock')\n",
    "    elif cpu_choice == 2:\n",
    "        print('The Computer chose Paper')\n",
    "    else:\n",
    "        ('The Computer chose Scissors')\n",
    "    if round_winner == 1:\n",
    "        print(\"The Computer won\")\n",
    "        cpu_score += 1\n",
    "    elif round_winner == 2:\n",
    "        print(\"Dude, you won!\")\n",
    "        player_score += 1\n",
    "    else:\n",
    "        print(\"It's a tie!\")\n",
    "        \n",
    "say_what = play_the_game()\n"
   ]
  },
  {
   "cell_type": "code",
   "execution_count": 10,
   "metadata": {},
   "outputs": [
    {
     "name": "stdout",
     "output_type": "stream",
     "text": [
      "Choose: 1 for Rock, 2 for Paper, or 3 Scissors: 2\n",
      "==> You chose Paper\n",
      "==> The Computer chose Rock\n",
      "  Dude, you won!\n"
     ]
    },
    {
     "ename": "UnboundLocalError",
     "evalue": "local variable 'player_score' referenced before assignment",
     "output_type": "error",
     "traceback": [
      "\u001b[1;31m---------------------------------------------------------------------------\u001b[0m",
      "\u001b[1;31mUnboundLocalError\u001b[0m                         Traceback (most recent call last)",
      "\u001b[1;32m<ipython-input-10-ed0fd005cd19>\u001b[0m in \u001b[0;36m<module>\u001b[1;34m\u001b[0m\n\u001b[0;32m     56\u001b[0m         \u001b[0mprint\u001b[0m\u001b[1;33m(\u001b[0m\u001b[1;34m\"  It's a tie!\"\u001b[0m\u001b[1;33m)\u001b[0m\u001b[1;33m\u001b[0m\u001b[1;33m\u001b[0m\u001b[0m\n\u001b[0;32m     57\u001b[0m \u001b[1;33m\u001b[0m\u001b[0m\n\u001b[1;32m---> 58\u001b[1;33m \u001b[0msay_what\u001b[0m \u001b[1;33m=\u001b[0m \u001b[0mplay_the_game\u001b[0m\u001b[1;33m(\u001b[0m\u001b[1;33m)\u001b[0m\u001b[1;33m\u001b[0m\u001b[1;33m\u001b[0m\u001b[0m\n\u001b[0m\u001b[0;32m     59\u001b[0m \u001b[1;33m\u001b[0m\u001b[0m\n\u001b[0;32m     60\u001b[0m \u001b[1;33m\u001b[0m\u001b[0m\n",
      "\u001b[1;32m<ipython-input-10-ed0fd005cd19>\u001b[0m in \u001b[0;36mplay_the_game\u001b[1;34m()\u001b[0m\n\u001b[0;32m     52\u001b[0m     \u001b[1;32melif\u001b[0m \u001b[0mround_winner\u001b[0m \u001b[1;33m==\u001b[0m \u001b[1;36m2\u001b[0m\u001b[1;33m:\u001b[0m\u001b[1;33m\u001b[0m\u001b[1;33m\u001b[0m\u001b[0m\n\u001b[0;32m     53\u001b[0m         \u001b[0mprint\u001b[0m\u001b[1;33m(\u001b[0m\u001b[1;34m\"  Dude, you won!\"\u001b[0m\u001b[1;33m)\u001b[0m\u001b[1;33m\u001b[0m\u001b[1;33m\u001b[0m\u001b[0m\n\u001b[1;32m---> 54\u001b[1;33m         \u001b[0mplayer_score\u001b[0m \u001b[1;33m+=\u001b[0m \u001b[1;36m1\u001b[0m\u001b[1;33m\u001b[0m\u001b[1;33m\u001b[0m\u001b[0m\n\u001b[0m\u001b[0;32m     55\u001b[0m     \u001b[1;32melse\u001b[0m\u001b[1;33m:\u001b[0m\u001b[1;33m\u001b[0m\u001b[1;33m\u001b[0m\u001b[0m\n\u001b[0;32m     56\u001b[0m         \u001b[0mprint\u001b[0m\u001b[1;33m(\u001b[0m\u001b[1;34m\"  It's a tie!\"\u001b[0m\u001b[1;33m)\u001b[0m\u001b[1;33m\u001b[0m\u001b[1;33m\u001b[0m\u001b[0m\n",
      "\u001b[1;31mUnboundLocalError\u001b[0m: local variable 'player_score' referenced before assignment"
     ]
    }
   ],
   "source": [
    "import random\n",
    "\n",
    "gestures = ['Rock', 'Paper', 'Scissors']\n",
    "n_rounds = []  # maximum number of rounds to play in a game, the number of rounds must be odd\n",
    "rounds_to_win = [] # number of rounds that a player must win to win the game\n",
    "\n",
    "\n",
    "def computer_play():\n",
    "    comp_choice = random.randint(1, 3)\n",
    "    return comp_choice\n",
    "\n",
    "cpu_choice = computer_play()\n",
    "\n",
    "def user_play():\n",
    "    choice = int(input(\"Choose: 1 for Rock, 2 for Paper, or 3 Scissors: \"))\n",
    "    while choice > 3 or choice < 1:\n",
    "        choice = int(input(\"Nope. Try again: 1 for Rock, 2 for Paper, or 3 Scissors: \"))\n",
    "    return choice\n",
    "\n",
    "user_choice = user_play()\n",
    "\n",
    "def win_the_game():\n",
    "    if user_choice == cpu_choice:\n",
    "        result = 0\n",
    "    elif((user_choice == 1 and cpu_choice == 3) or (user_choice == 2 and cpu_choice ==1 ) or (user_choice == 3 and cpu_choice == 2)):\n",
    "        result = 2\n",
    "    else:\n",
    "        result = 1\n",
    "    return result\n",
    "\n",
    "round_winner = win_the_game()\n",
    "\n",
    "cpu_score = 0\n",
    "player_score = 0\n",
    "\n",
    "def play_the_game():\n",
    "    if user_choice == 1:\n",
    "        print('==> You chose Rock')\n",
    "    elif user_choice == 2:\n",
    "        print('==> You chose Paper')\n",
    "    else:\n",
    "        print('==> You chose Scissors')\n",
    "    if cpu_choice == 1:\n",
    "        print('==> The Computer chose Rock')\n",
    "    elif cpu_choice == 2:\n",
    "        print('==> The Computer chose Paper')\n",
    "    else:\n",
    "        print('==> The Computer chose Scissors')\n",
    "    if round_winner == 1:\n",
    "        print(\"  The Computer won\")\n",
    "        cpu_score += 1\n",
    "    elif round_winner == 2:\n",
    "        print(\"  Dude, you won!\")        \n",
    "        player_score += 1\n",
    "    else:\n",
    "        print(\"  It's a tie!\")\n",
    "        \n",
    "say_what = play_the_game()\n",
    "\n",
    "\n",
    "while round_winner < 1 or round_winner >= 3:\n",
    "    play_again = input(\"Play again: Choose: 1 for Rock, 2 for Paper, or 3 Scissors: \")\n",
    "                           \n",
    "\n",
    "\n"
   ]
  },
  {
   "cell_type": "markdown",
   "metadata": {},
   "source": [
    "#### 10. Now it's time to code the execution of the game using the functions and variables you defined above. \n",
    "\n",
    "First, create a loop structure that repeats while no player reaches the minimum score necessary to win and the number of rounds is less than the maximum number of rounds to play in a game.  \n",
    "\n",
    "Inside the loop, use the functions and variables above to create the execution of a round: ask for the player's choice, generate the random choice of the computer, show the round results, update the scores, etc. "
   ]
  },
  {
   "cell_type": "code",
   "execution_count": null,
   "metadata": {},
   "outputs": [],
   "source": []
  },
  {
   "cell_type": "markdown",
   "metadata": {},
   "source": [
    "#### 11. Print the winner of the game based on who won more rounds.\n",
    "Remember that the game might be tied. "
   ]
  },
  {
   "cell_type": "code",
   "execution_count": null,
   "metadata": {},
   "outputs": [],
   "source": []
  },
  {
   "cell_type": "markdown",
   "metadata": {},
   "source": [
    "# Bonus: Rock, Paper, Scissors, Lizard & Spock\n",
    "![](images/rpsls.jpg)\n",
    "\n",
    "In this challenge, you need to improve the previous game by adding two new options. To know more about the rules of the improved version of rock, paper, scissors, check this [link](http://www.samkass.com/theories/RPSSL.html). \n",
    "\n",
    "In addition, you will also need to improve how the game interacts with the player: the number of rounds to play, which must be an odd number, will be requested to the user until a valid number is entered. Define a new function to make that request.\n",
    "\n",
    "**Hint**: Try to reuse the code that you already coded in the previous challenge. If your code is efficient, this bonus will only consist of simple modifications to the original game."
   ]
  },
  {
   "cell_type": "code",
   "execution_count": null,
   "metadata": {},
   "outputs": [],
   "source": []
  }
 ],
 "metadata": {
  "kernelspec": {
   "display_name": "Python 3",
   "language": "python",
   "name": "python3"
  },
  "language_info": {
   "codemirror_mode": {
    "name": "ipython",
    "version": 3
   },
   "file_extension": ".py",
   "mimetype": "text/x-python",
   "name": "python",
   "nbconvert_exporter": "python",
   "pygments_lexer": "ipython3",
   "version": "3.7.3"
  }
 },
 "nbformat": 4,
 "nbformat_minor": 2
}
